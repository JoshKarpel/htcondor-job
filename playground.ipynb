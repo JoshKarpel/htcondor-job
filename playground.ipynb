{
 "cells": [
  {
   "cell_type": "markdown",
   "metadata": {},
   "source": [
    "# Squaring a Number via HTCondor\n",
    "\n",
    "This is a testing notebook for thinking about HTCondor job submission from Python.\n",
    "\n",
    "---"
   ]
  },
  {
   "cell_type": "markdown",
   "metadata": {},
   "source": [
    "## Squaring a Number"
   ]
  },
  {
   "cell_type": "markdown",
   "metadata": {},
   "source": [
    "Suppose that you have been given the task of squaring a number, like `2`. You might simply do"
   ]
  },
  {
   "cell_type": "code",
   "execution_count": 1,
   "metadata": {},
   "outputs": [
    {
     "data": {
      "text/plain": [
       "4"
      ]
     },
     "execution_count": 1,
     "metadata": {},
     "output_type": "execute_result"
    }
   ],
   "source": [
    "2 ** 2"
   ]
  },
  {
   "cell_type": "markdown",
   "metadata": {},
   "source": [
    "Which will, of course, work. However, once the work that we want to perform becomes much more complicated, and once we want to run it somewhere that isn't in our notebook (perhaps because it takes a very long time, or needs more resources, like memory, than we have locally), we need to think more deeply about what we're doing. We will take this simple example of squaring a number and think about how to turn it into a Jupyter Notebook-based workflow that can be run on an HTCondor pool."
   ]
  },
  {
   "cell_type": "markdown",
   "metadata": {},
   "source": [
    "## Blowing up the Process"
   ]
  },
  {
   "cell_type": "markdown",
   "metadata": {},
   "source": [
    "Let's rewrite the above computation in a way that exposes some of its implicit behavior.\n",
    "\n",
    "We will define a Python function that squares numbers."
   ]
  },
  {
   "cell_type": "code",
   "execution_count": 2,
   "metadata": {},
   "outputs": [],
   "source": [
    "def square(x):\n",
    "    return x ** 2"
   ]
  },
  {
   "cell_type": "markdown",
   "metadata": {},
   "source": [
    "We can use it like this:"
   ]
  },
  {
   "cell_type": "code",
   "execution_count": 3,
   "metadata": {},
   "outputs": [
    {
     "name": "stdout",
     "output_type": "stream",
     "text": [
      "4\n"
     ]
    }
   ],
   "source": [
    "x = 2\n",
    "y = square(x)\n",
    "print(y)"
   ]
  },
  {
   "cell_type": "markdown",
   "metadata": {},
   "source": [
    "We have explicitly separated the workflow into steps. We define the inputs (`x = 2`), pass them to the function (`square(x)`), and then retrieve output from the function (`y = `). This separation is critical, because it lets us replace individual steps with other methods, as we'll do below.\n",
    "\n",
    "More generally, we can think of any program as a \"function\" that takes \"input\" and returns \"output\". The separation we've created above is really just an example of computation in general: $y = f(x)$, for some function $f$ and input $x$. The input and output in this \"square a number\" example are numbers, but they could be anything: complex Python objects, text files, data files in some arcane format, etc. The important thing about this is the **structure** of the computation.\n",
    "\n",
    "To prove this point, let's write a version of this calculation that reads its input from a file, and writes its output to another file."
   ]
  },
  {
   "cell_type": "markdown",
   "metadata": {},
   "source": [
    "## Reading and Writing Files in Python\n",
    "\n",
    "First, let's learn how to work with files.\n",
    "The Python standard library's `pathlib` module provides very convenient ways to write and read files:"
   ]
  },
  {
   "cell_type": "code",
   "execution_count": 4,
   "metadata": {},
   "outputs": [],
   "source": [
    "from pathlib import Path"
   ]
  },
  {
   "cell_type": "code",
   "execution_count": 5,
   "metadata": {},
   "outputs": [
    {
     "data": {
      "text/plain": [
       "'Hello world!'"
      ]
     },
     "execution_count": 5,
     "metadata": {},
     "output_type": "execute_result"
    }
   ],
   "source": [
    "test_file = Path('test')\n",
    "test_file.write_text('Hello world!')  # this writes \"Hello world!\" to the file\n",
    "test_file.read_text()                 # this reads the text back from the file"
   ]
  },
  {
   "cell_type": "markdown",
   "metadata": {},
   "source": [
    "We can store a number in a file by turning it into a string when we write it, then turning it back into an `int` when we read it out:"
   ]
  },
  {
   "cell_type": "code",
   "execution_count": 6,
   "metadata": {},
   "outputs": [
    {
     "name": "stdout",
     "output_type": "stream",
     "text": [
      "5 <class 'int'>\n"
     ]
    }
   ],
   "source": [
    "number_file = Path('number_test')\n",
    "number_file.write_text(str(5))\n",
    "number = int(number_file.read_text())\n",
    "print(number, type(number))"
   ]
  },
  {
   "cell_type": "markdown",
   "metadata": {},
   "source": [
    "## Squaring a Number from a File, and Writing the Result to Another File\n",
    "\n",
    "Now that we know how to write files, we can write a **wrapper** function around `square` that lets it take input from a file and write output to a file. We will pass in both files as `Path` objects, like we used above."
   ]
  },
  {
   "cell_type": "code",
   "execution_count": 7,
   "metadata": {},
   "outputs": [],
   "source": [
    "def square_wrapper(input_file, output_file):\n",
    "    x = int(input_file.read_text())\n",
    "    \n",
    "    y = square(x)\n",
    "    \n",
    "    output_file.write_text(str(y))"
   ]
  },
  {
   "cell_type": "markdown",
   "metadata": {},
   "source": [
    "Let's test that it works:"
   ]
  },
  {
   "cell_type": "code",
   "execution_count": 8,
   "metadata": {},
   "outputs": [],
   "source": [
    "x = 2\n",
    "\n",
    "input_file = Path('input')\n",
    "input_file.write_text(str(x))\n",
    "\n",
    "output_file = Path('output')"
   ]
  },
  {
   "cell_type": "code",
   "execution_count": 9,
   "metadata": {},
   "outputs": [],
   "source": [
    "square_wrapper(input_file, output_file)"
   ]
  },
  {
   "cell_type": "code",
   "execution_count": 10,
   "metadata": {},
   "outputs": [
    {
     "name": "stdout",
     "output_type": "stream",
     "text": [
      "4\n"
     ]
    }
   ],
   "source": [
    "y = int(output_file.read_text())\n",
    "print(y)"
   ]
  },
  {
   "cell_type": "markdown",
   "metadata": {},
   "source": [
    "We have performed the same computation as we set out to do initially, but with files as intermediary data transfer.\n",
    "This may have seemed like an arbitrary detour, but it turns out that this is exactly how HTCondor expects us to represent our work."
   ]
  },
  {
   "cell_type": "markdown",
   "metadata": {},
   "source": [
    "## Squaring a Number via HTCondor\n",
    "\n",
    "HTCondor requires that\n",
    "1. Our work is wrapped up in single **function** that it can run.\n",
    "1. The **inputs** to that function are provided as data encoded in a **file**.\n",
    "1. The **outputs** of that function are returned as data encoded in a **file**.\n",
    "\n",
    "These three steps roughly correspond to the \"blown up\" process described above. We have a step for input, a step that runs the function, and a step for output.\n",
    "We have already written the basic code for each step:\n",
    "1. The `square_wrapper` function is the function that HTCondor will run.\n",
    "1. The input number `x` was written to a file named `input`.\n",
    "1. We can read the output number `y` from a file, and convert it back to an integer.\n",
    "\n",
    "So we're more than halfway there! We just need to know how to tell HTCondor what function to run, and where to find the input file."
   ]
  },
  {
   "cell_type": "markdown",
   "metadata": {},
   "source": [
    "## Creating an HTCondor Task\n",
    "\n",
    "Our first step is to import some things:"
   ]
  },
  {
   "cell_type": "code",
   "execution_count": 11,
   "metadata": {},
   "outputs": [],
   "source": [
    "from htcondor_job import Task, TaskState"
   ]
  },
  {
   "cell_type": "markdown",
   "metadata": {},
   "source": [
    "The `Task` object represents the work that we want done. To make a `Task`, we need to give it two things: the function to run, and the input file."
   ]
  },
  {
   "cell_type": "code",
   "execution_count": 12,
   "metadata": {},
   "outputs": [
    {
     "data": {
      "text/plain": [
       "Task [TaskState.Unsubmitted] square_wrapper(input)"
      ]
     },
     "execution_count": 12,
     "metadata": {},
     "output_type": "execute_result"
    }
   ],
   "source": [
    "task = Task(\n",
    "    function = square_wrapper,\n",
    "    input_file = input_file,\n",
    ")\n",
    "task"
   ]
  },
  {
   "cell_type": "markdown",
   "metadata": {},
   "source": [
    "Note that the task is in the `Unsubmitted` state. It also tells us what function it will run (`square_wrapper`) and the location of the input file (`input`).\n",
    "\n",
    "We have not yet told HTCondor to actually run the task. To do so, we `submit` the task. HTCondor will then schedule it for execution."
   ]
  },
  {
   "cell_type": "code",
   "execution_count": 13,
   "metadata": {},
   "outputs": [
    {
     "data": {
      "text/plain": [
       "Task [TaskState.Unsubmitted] square_wrapper(input)"
      ]
     },
     "execution_count": 13,
     "metadata": {},
     "output_type": "execute_result"
    }
   ],
   "source": [
    "task.submit()"
   ]
  },
  {
   "cell_type": "markdown",
   "metadata": {},
   "source": [
    "The state of a `Task` is available through the attribute `Task.state`. This attribute will be updated in the background for you."
   ]
  },
  {
   "cell_type": "code",
   "execution_count": 14,
   "metadata": {},
   "outputs": [
    {
     "name": "stdout",
     "output_type": "stream",
     "text": [
      "The possible task states are:\n",
      "  TaskState.Unsubmitted\n",
      "  TaskState.Idle\n",
      "  TaskState.Running\n",
      "  TaskState.Submitted\n",
      "  TaskState.Held\n",
      "  TaskState.Completed\n",
      "  TaskState.Removed\n",
      "\n",
      "The current state of task is TaskState.Unsubmitted\n"
     ]
    }
   ],
   "source": [
    "possible_states = \"\\n  \".join(str(t) for t in TaskState)\n",
    "print(f'The possible task states are:\\n  {possible_states}\\n')\n",
    "print(f'The current state of task is {task.state}')"
   ]
  },
  {
   "cell_type": "markdown",
   "metadata": {},
   "source": [
    "Wait for completion:"
   ]
  },
  {
   "cell_type": "code",
   "execution_count": 15,
   "metadata": {},
   "outputs": [
    {
     "name": "stdout",
     "output_type": "stream",
     "text": [
      "TaskState.Idle\n",
      "TaskState.Idle\n",
      "TaskState.Idle\n",
      "TaskState.Idle\n",
      "TaskState.Idle\n",
      "TaskState.Running\n",
      "TaskState.Completed\n"
     ]
    }
   ],
   "source": [
    "import time\n",
    "\n",
    "while task.state is not TaskState.Completed:\n",
    "    print(task.state)\n",
    "    time.sleep(1)\n",
    "print(task.state)   # print out the final state"
   ]
  },
  {
   "cell_type": "markdown",
   "metadata": {},
   "source": [
    "Read the task's output file:"
   ]
  },
  {
   "cell_type": "code",
   "execution_count": 16,
   "metadata": {},
   "outputs": [
    {
     "name": "stdout",
     "output_type": "stream",
     "text": [
      "4\n"
     ]
    }
   ],
   "source": [
    "y = int(task.output_file.read_text())\n",
    "print(y)"
   ]
  },
  {
   "cell_type": "markdown",
   "metadata": {},
   "source": [
    "## Putting it All Together"
   ]
  },
  {
   "cell_type": "markdown",
   "metadata": {},
   "source": [
    "Our original workflow, once we had separated out the individual steps, looked like this:"
   ]
  },
  {
   "cell_type": "code",
   "execution_count": 17,
   "metadata": {},
   "outputs": [
    {
     "name": "stdout",
     "output_type": "stream",
     "text": [
      "4\n"
     ]
    }
   ],
   "source": [
    "x = 2          # define input\n",
    "y = square(x)  # pass input to function; run function; get output\n",
    "print(y)"
   ]
  },
  {
   "cell_type": "markdown",
   "metadata": {},
   "source": [
    "If we put the HTCondor-powered worklfow all together in one cell, it looks like this:"
   ]
  },
  {
   "cell_type": "code",
   "execution_count": 18,
   "metadata": {},
   "outputs": [
    {
     "name": "stdout",
     "output_type": "stream",
     "text": [
      "4\n"
     ]
    }
   ],
   "source": [
    "# define input\n",
    "x = 2\n",
    "\n",
    "input_file = Path('input')\n",
    "input_file.write_text(str(x))\n",
    "\n",
    "# pass input to function\n",
    "task = Task(\n",
    "    function = square_wrapper,\n",
    "    input_file = input_file,\n",
    ")\n",
    "\n",
    "# run function\n",
    "task.submit()\n",
    "\n",
    "while task.state is not TaskState.Completed:\n",
    "    time.sleep(1)\n",
    "    \n",
    "# get output\n",
    "y = int(task.output_file.read_text())\n",
    "print(y)"
   ]
  },
  {
   "cell_type": "markdown",
   "metadata": {},
   "source": [
    "The same steps are all present!\n",
    "They just look a little different, because we wanted to run the function via HTCondor."
   ]
  },
  {
   "cell_type": "code",
   "execution_count": null,
   "metadata": {},
   "outputs": [],
   "source": []
  }
 ],
 "metadata": {
  "kernelspec": {
   "display_name": "Python 3",
   "language": "python",
   "name": "python3"
  },
  "language_info": {
   "codemirror_mode": {
    "name": "ipython",
    "version": 3
   },
   "file_extension": ".py",
   "mimetype": "text/x-python",
   "name": "python",
   "nbconvert_exporter": "python",
   "pygments_lexer": "ipython3",
   "version": "3.6.6"
  }
 },
 "nbformat": 4,
 "nbformat_minor": 2
}
