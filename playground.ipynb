{
 "cells": [
  {
   "cell_type": "markdown",
   "metadata": {},
   "source": [
    "# Playground\n",
    "\n",
    "This is a testing notebook for thinking about HTCondor job submission from Python.\n",
    "\n",
    "---"
   ]
  },
  {
   "cell_type": "markdown",
   "metadata": {},
   "source": [
    "This version moves away from the \"job\" word. You can define a \"task\" which represents the execution of a user-provided function. The function must take exactly two arguments: an input file path, and an output file path. The user should read input data from the input file and write output data to the output file.\n",
    "\n",
    "The task can the be \"submitted\". Behind the scenes, this makes an HTCondor job. The task tracks its own state, and provides the output file produced by the user's function as a member variable when it is done executing.\n",
    "\n",
    "---"
   ]
  },
  {
   "cell_type": "markdown",
   "metadata": {},
   "source": [
    "Start by importing various Python standard library packages that will be used later, as well as the `Task` class and `TaskState` enum."
   ]
  },
  {
   "cell_type": "code",
   "execution_count": 1,
   "metadata": {},
   "outputs": [],
   "source": [
    "from pathlib import Path\n",
    "import time\n",
    "\n",
    "from htcondor_job import Task, TaskState"
   ]
  },
  {
   "cell_type": "markdown",
   "metadata": {},
   "source": [
    "Our goal is to square a number using this function:"
   ]
  },
  {
   "cell_type": "code",
   "execution_count": 2,
   "metadata": {},
   "outputs": [],
   "source": [
    "def square(x):\n",
    "    return x ** 2"
   ]
  },
  {
   "cell_type": "code",
   "execution_count": 3,
   "metadata": {},
   "outputs": [
    {
     "data": {
      "text/plain": [
       "4"
      ]
     },
     "execution_count": 3,
     "metadata": {},
     "output_type": "execute_result"
    }
   ],
   "source": [
    "square(2)"
   ]
  },
  {
   "cell_type": "markdown",
   "metadata": {},
   "source": [
    "`Task` will eventually need to be handed a function that takes two arguments: the path to the input file, and the path to the output file. You there need to write a \"wrapper\" function which read your inputs from the input file, and writes your output to the output file.\n",
    "\n",
    "In this case, we will simply read and write the numbers to plain-text files. The input and output paths will be given as `pathlib.Path` objects, so we can use their `write_text` and `read_text` methods. (`pathlib` docs: https://docs.python.org/3/library/pathlib.html#module-pathlib)"
   ]
  },
  {
   "cell_type": "code",
   "execution_count": 4,
   "metadata": {},
   "outputs": [],
   "source": [
    "def square_wrapper(input_file, output_file):\n",
    "    print(f'input  file is {input_file}')\n",
    "    print(f'output file is {output_file}')\n",
    "    \n",
    "    input_number = int(input_file.read_text())  # read the input number from the file, convert string to an actual integer\n",
    "    \n",
    "    output_number = square(input_number)        # run our function\n",
    "    \n",
    "    output_file.write_text(str(output_number))  # must convert output number to a string for writing plain text"
   ]
  },
  {
   "cell_type": "markdown",
   "metadata": {},
   "source": [
    "Make an input file containing the number 2:"
   ]
  },
  {
   "cell_type": "code",
   "execution_count": 5,
   "metadata": {},
   "outputs": [],
   "source": [
    "input_file = Path.cwd() / 'input_file'\n",
    "input_file.write_text(str(2));"
   ]
  },
  {
   "cell_type": "markdown",
   "metadata": {},
   "source": [
    "We can test our wrapper locally:"
   ]
  },
  {
   "cell_type": "code",
   "execution_count": 6,
   "metadata": {},
   "outputs": [
    {
     "name": "stdout",
     "output_type": "stream",
     "text": [
      "input  file is /home/jovyan/htcondor-job/input_file\n",
      "output file is /home/jovyan/htcondor-job/local_output\n",
      "output number is 4\n"
     ]
    }
   ],
   "source": [
    "local_output = Path.cwd() / 'local_output'\n",
    "\n",
    "square_wrapper(input_file, local_output)\n",
    "output_number = int(local_output.read_text())\n",
    "print(f'output number is {output_number}')"
   ]
  },
  {
   "cell_type": "markdown",
   "metadata": {},
   "source": [
    "Make a \"task\", which needs to know what function to run and where the input file is. The function to run is `square_wrapper`, and the input file is the `input_file` we made above."
   ]
  },
  {
   "cell_type": "code",
   "execution_count": 7,
   "metadata": {},
   "outputs": [
    {
     "data": {
      "text/plain": [
       "Task [TaskState.Unsubmitted] square_wrapper(/home/jovyan/htcondor-job/input_file)"
      ]
     },
     "execution_count": 7,
     "metadata": {},
     "output_type": "execute_result"
    }
   ],
   "source": [
    "task = Task(\n",
    "    function = square_wrapper,\n",
    "    input_file = input_file,\n",
    ")\n",
    "task"
   ]
  },
  {
   "cell_type": "markdown",
   "metadata": {},
   "source": [
    "Submit the task. HTCondor will schedule it for execution."
   ]
  },
  {
   "cell_type": "code",
   "execution_count": 8,
   "metadata": {},
   "outputs": [
    {
     "data": {
      "text/plain": [
       "Task [TaskState.Idle] square_wrapper(/home/jovyan/htcondor-job/input_file)"
      ]
     },
     "execution_count": 8,
     "metadata": {},
     "output_type": "execute_result"
    }
   ],
   "source": [
    "task.submit()"
   ]
  },
  {
   "cell_type": "markdown",
   "metadata": {},
   "source": [
    "The state of a `Task` is available through the attribute `Task.state`. This attribute will be updated in the background for you."
   ]
  },
  {
   "cell_type": "code",
   "execution_count": 9,
   "metadata": {},
   "outputs": [
    {
     "name": "stdout",
     "output_type": "stream",
     "text": [
      "The possible task states are:\n",
      "  TaskState.Unsubmitted\n",
      "  TaskState.Idle\n",
      "  TaskState.Running\n",
      "  TaskState.Submitted\n",
      "  TaskState.Held\n",
      "  TaskState.Completed\n",
      "  TaskState.Removed\n",
      "\n",
      "The current state of task is TaskState.Idle\n"
     ]
    }
   ],
   "source": [
    "possible_states = \"\\n  \".join(str(t) for t in TaskState)\n",
    "print(f'The possible task states are:\\n  {possible_states}\\n')\n",
    "print(f'The current state of task is {task.state}')"
   ]
  },
  {
   "cell_type": "markdown",
   "metadata": {},
   "source": [
    "Wait for completion:"
   ]
  },
  {
   "cell_type": "code",
   "execution_count": 10,
   "metadata": {},
   "outputs": [
    {
     "name": "stdout",
     "output_type": "stream",
     "text": [
      "TaskState.Idle\n",
      "TaskState.Idle\n",
      "TaskState.Idle\n",
      "TaskState.Idle\n",
      "TaskState.Idle\n",
      "TaskState.Completed\n"
     ]
    }
   ],
   "source": [
    "while task.state is not TaskState.Completed:\n",
    "    print(task.state)\n",
    "    time.sleep(1)\n",
    "print(task.state)   # print out the final state"
   ]
  },
  {
   "cell_type": "markdown",
   "metadata": {},
   "source": [
    "Read the task's output file:"
   ]
  },
  {
   "cell_type": "code",
   "execution_count": 11,
   "metadata": {},
   "outputs": [
    {
     "data": {
      "text/plain": [
       "4"
      ]
     },
     "execution_count": 11,
     "metadata": {},
     "output_type": "execute_result"
    }
   ],
   "source": [
    "int(task.output_file.read_text())"
   ]
  }
 ],
 "metadata": {
  "kernelspec": {
   "display_name": "Python 3",
   "language": "python",
   "name": "python3"
  },
  "language_info": {
   "codemirror_mode": {
    "name": "ipython",
    "version": 3
   },
   "file_extension": ".py",
   "mimetype": "text/x-python",
   "name": "python",
   "nbconvert_exporter": "python",
   "pygments_lexer": "ipython3",
   "version": "3.6.6"
  }
 },
 "nbformat": 4,
 "nbformat_minor": 2
}
