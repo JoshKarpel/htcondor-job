{
 "cells": [
  {
   "cell_type": "markdown",
   "metadata": {},
   "source": [
    "# Squaring a Number via HTCondor\n",
    "\n",
    "This is a testing notebook for thinking about HTCondor job submission from Python.\n",
    "\n",
    "---"
   ]
  },
  {
   "cell_type": "markdown",
   "metadata": {},
   "source": [
    "Suppose that you have been given the task of squaring a number, like `2`. You might simply do"
   ]
  },
  {
   "cell_type": "code",
   "execution_count": 1,
   "metadata": {},
   "outputs": [
    {
     "data": {
      "text/plain": [
       "4"
      ]
     },
     "execution_count": 1,
     "metadata": {},
     "output_type": "execute_result"
    }
   ],
   "source": [
    "2 ** 2"
   ]
  },
  {
   "cell_type": "markdown",
   "metadata": {},
   "source": [
    "Which will, of course, work. However, once the work that we want to perform becomes much more complicated, and once we want to run it somewhere that isn't in our notebook (perhaps because it takes a very long time, or needs more resources, like memory, than we have locally), we need to think more deeply about what we're doing. We will take this simple example of squaring a number and think about how to turn it into a Jupyter Notebook-based workflow that can be run on an HTCondor pool."
   ]
  },
  {
   "cell_type": "markdown",
   "metadata": {},
   "source": [
    "HTCondor requires that\n",
    "1. Our work is wrapped up in single **function** that it can run.\n",
    "1. The **inputs** to that function are provided as data encoded in a **file**.\n",
    "1. The **outputs** of that function are produced as data encoded in a **file**.\n",
    "\n",
    "These requirements are not particularly strict. Any function will do, and any kind of data encoding will do. From this list, we see that our specific task is to\n",
    "1. Write a function that squares a number that it reads from an input file, and write the result to an output file.\n",
    "1. Write an input file containing a number.\n",
    "1. Read an output file containing a number."
   ]
  },
  {
   "cell_type": "markdown",
   "metadata": {},
   "source": [
    "Let's begin by rewriting the above computation in a more general way. We will define a Python function that squares numbers."
   ]
  },
  {
   "cell_type": "code",
   "execution_count": 2,
   "metadata": {},
   "outputs": [],
   "source": [
    "def square(x):\n",
    "    return x ** 2"
   ]
  },
  {
   "cell_type": "markdown",
   "metadata": {},
   "source": [
    "We can use it like this:"
   ]
  },
  {
   "cell_type": "code",
   "execution_count": 3,
   "metadata": {},
   "outputs": [
    {
     "name": "stdout",
     "output_type": "stream",
     "text": [
      "4\n"
     ]
    }
   ],
   "source": [
    "x = 2\n",
    "y = square(x)\n",
    "print(y)"
   ]
  },
  {
   "cell_type": "markdown",
   "metadata": {},
   "source": [
    "Note that we have explicitly separated the workflow into steps. We define the inputs (`x = 2`), pass them to the function (`square(x)`), and then retrieve output from the function (`y = `). This separation is critical, because it lets us replace individual steps with other methods, as we'll do below."
   ]
  },
  {
   "cell_type": "markdown",
   "metadata": {},
   "source": [
    "Based on our above guidelines, we know that what we really need to do is read and write the input and output from files. The Python standard library's `pathlib` module provides very convenient ways to write and read files:"
   ]
  },
  {
   "cell_type": "code",
   "execution_count": 4,
   "metadata": {},
   "outputs": [],
   "source": [
    "from pathlib import Path"
   ]
  },
  {
   "cell_type": "code",
   "execution_count": 5,
   "metadata": {},
   "outputs": [
    {
     "data": {
      "text/plain": [
       "'Hello world!'"
      ]
     },
     "execution_count": 5,
     "metadata": {},
     "output_type": "execute_result"
    }
   ],
   "source": [
    "test_file = Path('test')\n",
    "test_file.write_text('Hello world!')  # this writes \"Hello world!\" to the file\n",
    "test_file.read_text()                 # this reads the text back from the file"
   ]
  },
  {
   "cell_type": "markdown",
   "metadata": {},
   "source": [
    "We can store a number in a file by turning it into a string when we write it, then turning it back into an `int` when we read it out:"
   ]
  },
  {
   "cell_type": "code",
   "execution_count": 6,
   "metadata": {},
   "outputs": [
    {
     "name": "stdout",
     "output_type": "stream",
     "text": [
      "5 <class 'int'>\n"
     ]
    }
   ],
   "source": [
    "number_file = Path('number_test')\n",
    "number_file.write_text(str(5))\n",
    "number = int(number_file.read_text())\n",
    "print(number, type(number))"
   ]
  },
  {
   "cell_type": "markdown",
   "metadata": {},
   "source": [
    "Now that we know how to write files, we can write a **wrapper** function around `square` that lets it take input from a file and write output to a file. We will pass in both files as `Path` objects, like we used above."
   ]
  },
  {
   "cell_type": "code",
   "execution_count": 7,
   "metadata": {},
   "outputs": [],
   "source": [
    "def square_wrapper(input_file, output_file):\n",
    "    x = int(input_file.read_text())\n",
    "    \n",
    "    y = square(x)\n",
    "    \n",
    "    output_file.write_text(str(y))"
   ]
  },
  {
   "cell_type": "markdown",
   "metadata": {},
   "source": [
    "Let's test that it works:"
   ]
  },
  {
   "cell_type": "code",
   "execution_count": 8,
   "metadata": {},
   "outputs": [],
   "source": [
    "x = 2\n",
    "\n",
    "input_file = Path('input')\n",
    "input_file.write_text(str(x))\n",
    "\n",
    "output_file = Path('output')"
   ]
  },
  {
   "cell_type": "code",
   "execution_count": 9,
   "metadata": {},
   "outputs": [],
   "source": [
    "square_wrapper(input_file, output_file)"
   ]
  },
  {
   "cell_type": "code",
   "execution_count": 10,
   "metadata": {},
   "outputs": [
    {
     "name": "stdout",
     "output_type": "stream",
     "text": [
      "4\n"
     ]
    }
   ],
   "source": [
    "y = int(output_file.read_text())\n",
    "print(y)"
   ]
  },
  {
   "cell_type": "markdown",
   "metadata": {},
   "source": [
    "Now we have a workflow that satisfies HTCondor's requirements. We will now import the tool that will let us run this workflow on HTCondor."
   ]
  },
  {
   "cell_type": "code",
   "execution_count": 11,
   "metadata": {},
   "outputs": [],
   "source": [
    "from htcondor_job import Task, TaskState"
   ]
  },
  {
   "cell_type": "markdown",
   "metadata": {},
   "source": [
    "The `Task` object represents the work that we want done. To make a `Task`, we need to give it two things: the function to run, and the input file."
   ]
  },
  {
   "cell_type": "code",
   "execution_count": 12,
   "metadata": {},
   "outputs": [
    {
     "data": {
      "text/plain": [
       "Task [TaskState.Unsubmitted] square_wrapper(input)"
      ]
     },
     "execution_count": 12,
     "metadata": {},
     "output_type": "execute_result"
    }
   ],
   "source": [
    "task = Task(\n",
    "    function = square_wrapper,\n",
    "    input_file = input_file,\n",
    ")\n",
    "task"
   ]
  },
  {
   "cell_type": "markdown",
   "metadata": {},
   "source": [
    "Note that the task is in the `Unsubmitted` state. We have not yet told HTCondor to actually run the task. To do so, we `submit` the task. HTCondor will then schedule it for execution."
   ]
  },
  {
   "cell_type": "code",
   "execution_count": 13,
   "metadata": {},
   "outputs": [
    {
     "data": {
      "text/plain": [
       "Task [TaskState.Unsubmitted] square_wrapper(input)"
      ]
     },
     "execution_count": 13,
     "metadata": {},
     "output_type": "execute_result"
    }
   ],
   "source": [
    "task.submit()"
   ]
  },
  {
   "cell_type": "markdown",
   "metadata": {},
   "source": [
    "The state of a `Task` is available through the attribute `Task.state`. This attribute will be updated in the background for you."
   ]
  },
  {
   "cell_type": "code",
   "execution_count": 14,
   "metadata": {},
   "outputs": [
    {
     "name": "stdout",
     "output_type": "stream",
     "text": [
      "The possible task states are:\n",
      "  TaskState.Unsubmitted\n",
      "  TaskState.Idle\n",
      "  TaskState.Running\n",
      "  TaskState.Submitted\n",
      "  TaskState.Held\n",
      "  TaskState.Completed\n",
      "  TaskState.Removed\n",
      "\n",
      "The current state of task is TaskState.Unsubmitted\n"
     ]
    }
   ],
   "source": [
    "possible_states = \"\\n  \".join(str(t) for t in TaskState)\n",
    "print(f'The possible task states are:\\n  {possible_states}\\n')\n",
    "print(f'The current state of task is {task.state}')"
   ]
  },
  {
   "cell_type": "markdown",
   "metadata": {},
   "source": [
    "Wait for completion:"
   ]
  },
  {
   "cell_type": "code",
   "execution_count": 15,
   "metadata": {},
   "outputs": [
    {
     "name": "stdout",
     "output_type": "stream",
     "text": [
      "TaskState.Unsubmitted\n",
      "TaskState.Idle\n",
      "TaskState.Idle\n",
      "TaskState.Idle\n",
      "TaskState.Idle\n",
      "TaskState.Idle\n",
      "TaskState.Running\n",
      "TaskState.Completed\n"
     ]
    }
   ],
   "source": [
    "import time\n",
    "\n",
    "while task.state is not TaskState.Completed:\n",
    "    print(task.state)\n",
    "    time.sleep(1)\n",
    "print(task.state)   # print out the final state"
   ]
  },
  {
   "cell_type": "markdown",
   "metadata": {},
   "source": [
    "Read the task's output file:"
   ]
  },
  {
   "cell_type": "code",
   "execution_count": 16,
   "metadata": {},
   "outputs": [
    {
     "name": "stdout",
     "output_type": "stream",
     "text": [
      "4\n"
     ]
    }
   ],
   "source": [
    "y = int(task.output_file.read_text())\n",
    "print(y)"
   ]
  },
  {
   "cell_type": "markdown",
   "metadata": {},
   "source": [
    "If we put it all together in one cell, we can write out workflow like this:"
   ]
  },
  {
   "cell_type": "code",
   "execution_count": 17,
   "metadata": {},
   "outputs": [
    {
     "name": "stdout",
     "output_type": "stream",
     "text": [
      "4\n"
     ]
    }
   ],
   "source": [
    "x = 2\n",
    "\n",
    "input_file = Path('input')\n",
    "input_file.write_text(str(x))\n",
    "\n",
    "task = Task(\n",
    "    function = square_wrapper,\n",
    "    input_file = input_file,\n",
    ")\n",
    "task.submit()\n",
    "\n",
    "while task.state is not TaskState.Completed:\n",
    "    time.sleep(1)\n",
    "    \n",
    "y = int(task.output_file.read_text())\n",
    "print(y)"
   ]
  },
  {
   "cell_type": "markdown",
   "metadata": {},
   "source": [
    "Note how this looks like a \"blown-up\" version of the original local workflow:"
   ]
  },
  {
   "cell_type": "code",
   "execution_count": 18,
   "metadata": {},
   "outputs": [
    {
     "name": "stdout",
     "output_type": "stream",
     "text": [
      "4\n"
     ]
    }
   ],
   "source": [
    "x = 2\n",
    "y = square(x)\n",
    "print(y)"
   ]
  }
 ],
 "metadata": {
  "kernelspec": {
   "display_name": "Python 3",
   "language": "python",
   "name": "python3"
  },
  "language_info": {
   "codemirror_mode": {
    "name": "ipython",
    "version": 3
   },
   "file_extension": ".py",
   "mimetype": "text/x-python",
   "name": "python",
   "nbconvert_exporter": "python",
   "pygments_lexer": "ipython3",
   "version": "3.6.6"
  }
 },
 "nbformat": 4,
 "nbformat_minor": 2
}
